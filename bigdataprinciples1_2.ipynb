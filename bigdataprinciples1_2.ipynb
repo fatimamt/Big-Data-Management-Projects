{
 "cells": [
  {
   "cell_type": "markdown",
   "metadata": {},
   "source": [
    "# Questions and answers - Compilation"
   ]
  },
  {
   "cell_type": "markdown",
   "metadata": {},
   "source": [
    "### Note\n",
    "\n",
    "This Jupyter Notebook shows a brief summary of Nathan Marz and James Warren's book, Big Data Principles and Best Practices of Scalable Realtime Data Systems, by giving short questions related with the topic of each chapter to gain a full understanding of this (according to me), all together their respective answers.\n",
    "#### Quick disclaimer\n",
    "Some of those questions were taken from internet. References at the bottom of the summary."
   ]
  },
  {
   "cell_type": "markdown",
   "metadata": {},
   "source": [
    "# Big Data Principles and Best Practices of Scalable Realtime Data Systems"
   ]
  },
  {
   "cell_type": "markdown",
   "metadata": {},
   "source": [
    "## Chapter1. A new paradigm for Big Data"
   ]
  },
  {
   "cell_type": "markdown",
   "metadata": {},
   "source": [
    "1. ___What are considered a traditional database techniques?___\n",
    "Those that do not consider at all scalability and complexity, such as queuing, sharding, etc.\n",
    "2. ___How much is \"Big Data\"?___\n",
    "\n",
    "There is no right or wrong answer. Big Data has been defined in so many ways that ended up being a difficult concept to understand. Nonetheless, we now we encounter Big Data when the complexity of the database and its scalability get more difficult to work with in a traditional database technology.\n",
    "3. ___How will Big Data techniques help?___\n",
    "\n",
    "They address scalability and complexity issues. For instance, when it comes to scaling terms, you just need to add nodes, and, by nature, the systems will automatically rebalance onto the new nodes.\n",
    "4. ___What does a data system do?___\n",
    "\n",
    "\"A data system answers questions based on information that was acquired in the past up to the present.\" They also combine bits an pieces together to produce their answers by looking at the entire dataset. The main properties for a Big Data System is the complexity and scalability.\n",
    "\n",
    "_query = function(all data)_\n",
    "5. ___How is the scalability in the Lambda Architecture?___\n",
    "\n",
    "Horizontal across all layers of the system stack (by adding more machines).\n",
    "6. ___How Lambda Architecture apply debuggability?___\n",
    "\n",
    "Through the batch layer by itself and by preferring t use recomputation algorithms when possible.\n",
    "7. ___What are some problems with fully incremental architecture?___\n",
    "\n",
    "Complexity when dealing with online compaction, the inherent lack of human-fault tolerance, \n",
    "8. ___Wich are the three axes where the Lambda Architecture is better than the fully incremental solution?___\n",
    "\n",
    "Accuracy, latency and throughput.\n",
    "9. ___What is Lambda Architecture___\n",
    "\n",
    "Solution which builds Big Data Systems as a series of layers: batch, serving and speed layers.\n",
    "10. ___What is the role of those layers in the Lambda Architecture?___\n",
    "\n",
    "__Batch Layer:__ Storage and computation of arbitraty functions, both on a dataset\n",
    "\n",
    "_<code>function runBatchLayer():\n",
    "    while (true):\n",
    "        recomputeBatchViews()</code>_\n",
    "        \n",
    "_batch view = function(all data)_\n",
    "\n",
    "__Serving Layer:__ Loading of the views given by the batch layer to make them queries, plus this layer makes possible to do random reads on it. Then, it update the batch views  to automatically swaps those to make them some available results.\n",
    "\n",
    "_query = function(batch view, realtime view)_\n",
    "\n",
    "__Speed Layer:__ Ensures that new data is represented in query functions as quickly as the application needs it.\n",
    "\n",
    "_realtime view = function(realtime view, new data)_\n",
    "11. ___Which are those properties that batch and serving layers support but speed one not?___\n",
    "\n",
    "Robustness, scalability, generalization, extensibility, ad hoc queries, minimal maintenance, and debuggability. Overall, both layers satisfy the traditional database techniques."
   ]
  },
  {
   "cell_type": "markdown",
   "metadata": {},
   "source": [
    "# Part 1 Batch layer"
   ]
  },
  {
   "cell_type": "markdown",
   "metadata": {},
   "source": [
    "## Chapter 2. Data model for Big Data"
   ]
  },
  {
   "cell_type": "markdown",
   "metadata": {},
   "source": [
    "1. ___What is the master dataset?___\n",
    "\n",
    "You could reconstruct your application from the master dataset. This is because the batch views served by the serving layer are produced via functions on the master dataset, and since the speed layer is based only on recent data, it can construct itself within a few hours.\n",
    "2. ___What is the relationship between data, views, and queries?___\n",
    "\n",
    "Data is the information, let's compare it with programming languages, of first level, that cannot be delivered from anything else. This information is converted into views (batch layer in Lambda Architecture) computed to hel answer queries, and finally, queries is what the user want to get answered.\n",
    "3. ___What is the relationship between Big Data Systems and raw data?___\n",
    "\n",
    "Big Data systems, initially, is raw data, and it can be processed and analyzed.\n",
    "4. ___What does the fact-based model do?___\n",
    "\n",
    "It stores raw data as atomic facts (that can't be subdivided further into meaningful components), keeps the facts immutable and eternally true by using tiemstamps, and ensures each fact is identificable so that query processingg can iddentify duplicates.\n",
    "5. ___Why to choose the fact-based model?___\n",
    "\n",
    "Your master dataset will be an ever-growing list of immutable, atomic facts. Therefore, your dataset become queryable at any time, it achieve the human-fault tolerance by deleting any erroneous facts, unknown facts esaily become new one, and it stores the information at both the batch and serving layers so your data keep normalized and denormalized.\n",
    "6. ___What is the purpose of a graph schema?___\n",
    "\n",
    "It shows graphically the structure of a dataset stored in a fact-based model. Its elements include, nodes, edges and properties."
   ]
  },
  {
   "cell_type": "markdown",
   "metadata": {},
   "source": [
    "# References\n",
    "- [Chapter 1. Question 8.](https://www.atlantech.net/blog/full-backup-vs.-incremental-backup-vs.-differential-backup-which-is-best)\n",
    "- [Chapter 2. Question 3.](https://www.sciencedirect.com/topics/computer-science/big-data-system)"
   ]
  }
 ],
 "metadata": {
  "kernelspec": {
   "display_name": "Python 3",
   "language": "python",
   "name": "python3"
  },
  "language_info": {
   "codemirror_mode": {
    "name": "ipython",
    "version": 3
   },
   "file_extension": ".py",
   "mimetype": "text/x-python",
   "name": "python",
   "nbconvert_exporter": "python",
   "pygments_lexer": "ipython3",
   "version": "3.7.1"
  }
 },
 "nbformat": 4,
 "nbformat_minor": 2
}
